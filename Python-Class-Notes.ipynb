{
 "cells": [
  {
   "cell_type": "markdown",
   "metadata": {},
   "source": [
    "# Python Class Tutorial\n",
    "\n",
    "In this tutorial I'm going to make some notes about Python classes since I'm not quite up to speed with them yet. I am somewhat familliar with them while learning `java` but the idea didn't quite sink in.\n",
    "\n",
    "I'll be using the tutorials from [Corey Shafer](https://www.youtube.com/playlist?list=PL-osiE80TeTsqhIuOqKhwlXsIBIdSeYtc) and making the notes here so that I can play around with the code a little bit.\n",
    "\n",
    "___"
   ]
  },
  {
   "cell_type": "code",
   "execution_count": 1,
   "metadata": {},
   "outputs": [],
   "source": [
    "# Quickly Importing used modules\n",
    "import datetime"
   ]
  },
  {
   "cell_type": "markdown",
   "metadata": {},
   "source": [
    "A class is an assortment of functions amongst other things that lets you replicate a template relatively quickly. \n",
    "\n",
    "For instance, if you are using the same format for HR purposes, you might have a \"person\" class, like this."
   ]
  },
  {
   "cell_type": "code",
   "execution_count": 2,
   "metadata": {},
   "outputs": [],
   "source": [
    "# Create Class\n",
    "class Employee:\n",
    "    \"\"\"\n",
    "    Creates an employee with a name and pay.\n",
    "    \n",
    "    first: First name, string.\n",
    "    last: Last name, string.\n",
    "    pay: Income per year in USD, int.\n",
    "    \"\"\"\n",
    "    # If you want to keep the class empty, use `pass`\n",
    "    \n",
    "    # Possible to define class variables.\n",
    "    raise_amount = 1.04\n",
    "    \n",
    "    # Possible to keep track of how many employees you make\n",
    "    n_employee = 0\n",
    "    \n",
    "    # First you need to make an init \"method\" (constructor) which takes \"arguments\"\n",
    "    # __init__ is a magic/dunder method with a predefined purpose\n",
    "    def __init__(self, first, last, pay):\n",
    "        # The constructor is filled with \"Attributes\"\n",
    "        self.first = first\n",
    "        self.last= last\n",
    "        self.pay = pay\n",
    "        self.email = '{}.{}@company.com'.format(first.lower(), last.lower())\n",
    "        \n",
    "        # Increments n_employee class variable each time a new employee is created\n",
    "        Employee.n_employee+=1 # Make sure that you reference the class!\n",
    "        \n",
    "    # Create a full-name \"method\"\n",
    "    def fullname(self):\n",
    "        return '{} {}'.format(self.first, self.last)\n",
    "    \n",
    "    def apply_raise(self):\n",
    "        \"\"\"\n",
    "        Raises the pay of employeeby 4%.\n",
    "        \"\"\"\n",
    "        self.pay = int(self.pay * Employee.raise_amount)\n",
    "        \n",
    "    # Class methods\n",
    "    @classmethod\n",
    "    def from_string(cls, emp_str):\n",
    "        first, last, pay = emp_str.split('-')\n",
    "        pay = int(pay)\n",
    "        return cls(first, last, pay)\n",
    "        \n",
    "    # Static methods\n",
    "    @staticmethod\n",
    "    def is_workday(day): #Don't pass instance or class\n",
    "        if day.weekday() == 5 or day.weekday() == 6: return False\n",
    "        return True\n",
    "    \n",
    "    # More Duner Methods\n",
    "    def __repr__(self): # unambiguous representation of the object for developers & debugging\n",
    "        return \"Employee({}, {}, {})\".format(self.first, self.last, self.pay)\n",
    "    \n",
    "    def __str__(self): # Readable representation of an object, for end user\n",
    "        # if Pass then falls back on __repr__\n",
    "        return '{} - {}'.format(self.fullname(), self.email)"
   ]
  },
  {
   "cell_type": "markdown",
   "metadata": {},
   "source": [
    "You can then use the class to create two different employees.\n",
    "\n",
    "Note that the `self` argument will refer to the name of the *instance* name, as you can see below. Think of it like having \"Employee\" within the class ahead of time. "
   ]
  },
  {
   "cell_type": "code",
   "execution_count": 3,
   "metadata": {},
   "outputs": [
    {
     "name": "stdout",
     "output_type": "stream",
     "text": [
      "Simon Thornewill - simon.thornewill@company.com\n"
     ]
    }
   ],
   "source": [
    "# Create employee\n",
    "emp_1 = Employee('Simon', 'Thornewill', 50000)\n",
    "\n",
    "emp_2 = Employee('Someone', 'Else', 50000)\n",
    "\n",
    "print(emp_1)"
   ]
  },
  {
   "cell_type": "markdown",
   "metadata": {},
   "source": [
    "Notice how printing the object will return the object within memory. You need to call functions for it to return anything."
   ]
  },
  {
   "cell_type": "code",
   "execution_count": 4,
   "metadata": {},
   "outputs": [
    {
     "name": "stdout",
     "output_type": "stream",
     "text": [
      "simon.thornewill@company.com\n",
      "Simon Thornewill\n"
     ]
    }
   ],
   "source": [
    "print(emp_1.email)\n",
    "print(emp_1.fullname()) # Use of brackets () to print method instead of an attribute"
   ]
  },
  {
   "cell_type": "markdown",
   "metadata": {},
   "source": [
    "It's possible to change the class variables from outside of the class:"
   ]
  },
  {
   "cell_type": "code",
   "execution_count": 5,
   "metadata": {},
   "outputs": [
    {
     "name": "stdout",
     "output_type": "stream",
     "text": [
      "1.05\n"
     ]
    }
   ],
   "source": [
    "emp_1.raise_amount = 1.05\n",
    "\n",
    "print(emp_1.raise_amount)"
   ]
  },
  {
   "cell_type": "markdown",
   "metadata": {},
   "source": [
    "We can also see how many employees we have created"
   ]
  },
  {
   "cell_type": "code",
   "execution_count": 6,
   "metadata": {},
   "outputs": [
    {
     "data": {
      "text/plain": [
       "2"
      ]
     },
     "execution_count": 6,
     "metadata": {},
     "output_type": "execute_result"
    }
   ],
   "source": [
    "Employee.n_employee"
   ]
  },
  {
   "cell_type": "markdown",
   "metadata": {},
   "source": [
    "Using class methods, we can create an alternative constructor"
   ]
  },
  {
   "cell_type": "code",
   "execution_count": 7,
   "metadata": {},
   "outputs": [
    {
     "data": {
      "text/plain": [
       "3"
      ]
     },
     "execution_count": 7,
     "metadata": {},
     "output_type": "execute_result"
    }
   ],
   "source": [
    "emp_3 = Employee.from_string('John-Doe-70000')\n",
    "\n",
    "Employee.n_employee "
   ]
  },
  {
   "cell_type": "markdown",
   "metadata": {},
   "source": [
    "Possible to call static methods as well"
   ]
  },
  {
   "cell_type": "code",
   "execution_count": 8,
   "metadata": {},
   "outputs": [
    {
     "name": "stdout",
     "output_type": "stream",
     "text": [
      "True\n"
     ]
    }
   ],
   "source": [
    "# Create date\n",
    "my_date = datetime.date(2018, 1, 1)\n",
    "\n",
    "print(Employee.is_workday(my_date))"
   ]
  },
  {
   "cell_type": "markdown",
   "metadata": {},
   "source": [
    "What if we want to create differnt types of employee? (Subclasses)"
   ]
  },
  {
   "cell_type": "code",
   "execution_count": 9,
   "metadata": {},
   "outputs": [],
   "source": [
    "class Developer(Employee):\n",
    "    # Even if you pass, developer already inherited all of Employee's functionality.\n",
    "    \n",
    "    # Change class variables\n",
    "    raise_amount = 1.10 # Doesn't change anything in parent class\n",
    "    \n",
    "    def __init__(self, first, last, pay, prog_lang):\n",
    "        super().__init__(first, last, pay)\n",
    "        self.prog_lang = prog_lang"
   ]
  },
  {
   "cell_type": "code",
   "execution_count": 10,
   "metadata": {},
   "outputs": [
    {
     "name": "stdout",
     "output_type": "stream",
     "text": [
      "Python\n",
      "corey.schafer@company.com\n"
     ]
    }
   ],
   "source": [
    "dev_1 = Developer('Corey', \"Schafer\", 50000, \"Python\")\n",
    "\n",
    "print(dev_1.prog_lang)\n",
    "print(dev_1.email)"
   ]
  },
  {
   "cell_type": "markdown",
   "metadata": {},
   "source": [
    "Possible to check whether or not something is a class, or subclass of somethign else"
   ]
  },
  {
   "cell_type": "code",
   "execution_count": 11,
   "metadata": {},
   "outputs": [
    {
     "name": "stdout",
     "output_type": "stream",
     "text": [
      "True\n"
     ]
    }
   ],
   "source": [
    "print(issubclass(Developer, Employee))"
   ]
  },
  {
   "cell_type": "code",
   "execution_count": 12,
   "metadata": {},
   "outputs": [
    {
     "name": "stdout",
     "output_type": "stream",
     "text": [
      "False\n",
      "True\n"
     ]
    }
   ],
   "source": [
    "print(isinstance(emp_1, Developer))\n",
    "\n",
    "print(isinstance(emp_1, Employee))"
   ]
  },
  {
   "cell_type": "markdown",
   "metadata": {},
   "source": [
    "Testing Dunder methods"
   ]
  },
  {
   "cell_type": "code",
   "execution_count": 13,
   "metadata": {},
   "outputs": [
    {
     "data": {
      "text/plain": [
       "'Simon Thornewill - simon.thornewill@company.com'"
      ]
     },
     "execution_count": 13,
     "metadata": {},
     "output_type": "execute_result"
    }
   ],
   "source": [
    "Employee.__repr__(emp_1)\n",
    "\n",
    "Employee.__str__(emp_1)"
   ]
  },
  {
   "cell_type": "code",
   "execution_count": null,
   "metadata": {},
   "outputs": [],
   "source": []
  }
 ],
 "metadata": {
  "kernelspec": {
   "display_name": "Python 3",
   "language": "python",
   "name": "python3"
  },
  "language_info": {
   "codemirror_mode": {
    "name": "ipython",
    "version": 3
   },
   "file_extension": ".py",
   "mimetype": "text/x-python",
   "name": "python",
   "nbconvert_exporter": "python",
   "pygments_lexer": "ipython3",
   "version": "3.6.5"
  }
 },
 "nbformat": 4,
 "nbformat_minor": 2
}
